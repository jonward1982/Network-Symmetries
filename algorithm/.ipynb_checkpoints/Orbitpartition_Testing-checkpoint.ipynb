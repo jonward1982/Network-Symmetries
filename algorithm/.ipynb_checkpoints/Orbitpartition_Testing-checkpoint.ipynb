{
 "cells": [
  {
   "cell_type": "code",
   "execution_count": 1,
   "metadata": {},
   "outputs": [],
   "source": [
    "import OPPs\n",
    "import OrbitRepresentatives as ORs\n",
    "# import OrbitRepresentatives_Recursion as ORs\n",
    "import math"
   ]
  },
  {
   "cell_type": "code",
   "execution_count": 2,
   "metadata": {},
   "outputs": [],
   "source": [
    "alist=[[1,2],[0,2],[0,1,3,4],[2],[2]]\n",
    "Gorb=OPPs.Graph(alist)\n",
    "pi=[[0,1],[2],[3,4]]"
   ]
  },
  {
   "cell_type": "code",
   "execution_count": 3,
   "metadata": {},
   "outputs": [
    {
     "name": "stdout",
     "output_type": "stream",
     "text": [
      "Computing Orbit Representatives\n",
      "\n",
      "^^^^^^^^^^^^^^^^^^^^\n",
      "i=1 infected nodes\n",
      "\n",
      "_____________________\n",
      "States:\n",
      "[0, 1, 0, 0, 0]\n",
      "[1, 0, 0, 0, 0]\n",
      "Partitions from states:\n",
      "[[0], [2], [3, 4], [1]]\n",
      "[[1], [2], [3, 4], [0]]\n",
      "Starting mapping...\n",
      "\n",
      "*******************\n",
      "\n",
      "Level 0, OPP:\n",
      "[0 | 2 | 3, 4 | 1]\n",
      "[1 | 2 | 3, 4 | 0]\n",
      "\n",
      "Level 0. Mapping top vertex 3 to bottom vertex 3 in cell 2\n",
      "Split OPP:\n",
      "[0 | 2 | 4 | 3 | 1]\n",
      "[1 | 2 | 4 | 3 | 0]\n",
      "\n",
      "Found automorphism\n",
      "[0 | 2 | 4 | 3 | 1]\n",
      "[1 | 2 | 4 | 3 | 0]\n",
      "Permutation:\n",
      "[1, 0, 2, 3, 4]\n",
      "\n",
      "_____________________\n",
      "States:\n",
      "[0, 0, 1, 0, 0]\n",
      "[1, 0, 0, 0, 0]\n",
      "Partitions from states:\n",
      "[[0, 1], [3, 4], [2]]\n",
      "[[1], [2], [3, 4], [0]]\n",
      "Starting mapping...\n",
      "\n",
      "Refinement not equitable\n",
      "Permutation:\n",
      "None\n",
      "\n",
      "_____________________\n",
      "States:\n",
      "[0, 0, 0, 1, 0]\n",
      "[1, 0, 0, 0, 0]\n",
      "Partitions from states:\n",
      "[[0, 1], [2], [4], [3]]\n",
      "[[1], [2], [3, 4], [0]]\n",
      "Starting mapping...\n",
      "\n",
      "Refinement not equitable\n",
      "Permutation:\n",
      "None\n",
      "\n",
      "_____________________\n",
      "States:\n",
      "[0, 0, 0, 1, 0]\n",
      "[0, 0, 1, 0, 0]\n",
      "Partitions from states:\n",
      "[[0, 1], [2], [4], [3]]\n",
      "[[0, 1], [3, 4], [2]]\n",
      "Starting mapping...\n",
      "\n",
      "Refinement not equitable\n",
      "Permutation:\n",
      "None\n",
      "\n",
      "_____________________\n",
      "States:\n",
      "[0, 0, 0, 0, 1]\n",
      "[1, 0, 0, 0, 0]\n",
      "Partitions from states:\n",
      "[[0, 1], [2], [3], [4]]\n",
      "[[1], [2], [3, 4], [0]]\n",
      "Starting mapping...\n",
      "\n",
      "Refinement not equitable\n",
      "Permutation:\n",
      "None\n",
      "\n",
      "_____________________\n",
      "States:\n",
      "[0, 0, 0, 0, 1]\n",
      "[0, 0, 1, 0, 0]\n",
      "Partitions from states:\n",
      "[[0, 1], [2], [3], [4]]\n",
      "[[0, 1], [3, 4], [2]]\n",
      "Starting mapping...\n",
      "\n",
      "Refinement not equitable\n",
      "Permutation:\n",
      "None\n",
      "\n",
      "_____________________\n",
      "States:\n",
      "[0, 0, 0, 0, 1]\n",
      "[0, 0, 0, 1, 0]\n",
      "Partitions from states:\n",
      "[[0, 1], [2], [3], [4]]\n",
      "[[0, 1], [2], [4], [3]]\n",
      "Starting mapping...\n",
      "\n",
      "*******************\n",
      "\n",
      "Level 0, OPP:\n",
      "[0, 1 | 2 | 3 | 4]\n",
      "[0, 1 | 2 | 4 | 3]\n",
      "\n",
      "Level 0. Mapping top vertex 0 to bottom vertex 0 in cell 0\n",
      "Split OPP:\n",
      "[1 | 0 | 2 | 3 | 4]\n",
      "[1 | 0 | 2 | 4 | 3]\n",
      "\n",
      "Found automorphism\n",
      "[1 | 0 | 2 | 3 | 4]\n",
      "[1 | 0 | 2 | 4 | 3]\n",
      "Permutation:\n",
      "[0, 1, 2, 4, 3]\n",
      "\n",
      "^^^^^^^^^^^^^^^^^^^^\n",
      "i=2 infected nodes\n",
      "\n",
      "_____________________\n",
      "States:\n",
      "[1, 0, 1, 0, 0]\n",
      "[1, 1, 0, 0, 0]\n",
      "Partitions from states:\n",
      "[[1], [3, 4], [0], [2]]\n",
      "[[2], [3, 4], [0, 1]]\n",
      "Starting mapping...\n",
      "\n",
      "Refinement not equitable\n",
      "Permutation:\n",
      "None\n",
      "\n",
      "_____________________\n",
      "States:\n",
      "[1, 0, 0, 1, 0]\n",
      "[1, 1, 0, 0, 0]\n",
      "Partitions from states:\n",
      "[[1], [2], [4], [0], [3]]\n",
      "[[2], [3, 4], [0, 1]]\n",
      "Starting mapping...\n",
      "\n",
      "Refinement not equitable\n",
      "Permutation:\n",
      "None\n",
      "\n",
      "_____________________\n",
      "States:\n",
      "[1, 0, 0, 1, 0]\n",
      "[1, 0, 1, 0, 0]\n",
      "Partitions from states:\n",
      "[[1], [2], [4], [0], [3]]\n",
      "[[1], [3, 4], [0], [2]]\n",
      "Starting mapping...\n",
      "\n",
      "Refinement not equitable\n",
      "Permutation:\n",
      "None\n",
      "\n",
      "_____________________\n",
      "States:\n",
      "[1, 0, 0, 0, 1]\n",
      "[1, 1, 0, 0, 0]\n",
      "Partitions from states:\n",
      "[[1], [2], [3], [0], [4]]\n",
      "[[2], [3, 4], [0, 1]]\n",
      "Starting mapping...\n",
      "\n",
      "Refinement not equitable\n",
      "Permutation:\n",
      "None\n",
      "\n",
      "_____________________\n",
      "States:\n",
      "[1, 0, 0, 0, 1]\n",
      "[1, 0, 1, 0, 0]\n",
      "Partitions from states:\n",
      "[[1], [2], [3], [0], [4]]\n",
      "[[1], [3, 4], [0], [2]]\n",
      "Starting mapping...\n",
      "\n",
      "Refinement not equitable\n",
      "Permutation:\n",
      "None\n",
      "\n",
      "_____________________\n",
      "States:\n",
      "[1, 0, 0, 0, 1]\n",
      "[1, 0, 0, 1, 0]\n",
      "Partitions from states:\n",
      "[[1], [2], [3], [0], [4]]\n",
      "[[1], [2], [4], [0], [3]]\n",
      "Starting mapping...\n",
      "\n",
      "Found automorphism\n",
      "[1 | 2 | 3 | 0 | 4]\n",
      "[1 | 2 | 4 | 0 | 3]\n",
      "Permutation:\n",
      "[0, 1, 2, 4, 3]\n",
      "\n",
      "_____________________\n",
      "States:\n",
      "[0, 1, 1, 0, 0]\n",
      "[1, 1, 0, 0, 0]\n",
      "Partitions from states:\n",
      "[[0], [3, 4], [1], [2]]\n",
      "[[2], [3, 4], [0, 1]]\n",
      "Starting mapping...\n",
      "\n",
      "Refinement not equitable\n",
      "Permutation:\n",
      "None\n",
      "\n",
      "_____________________\n",
      "States:\n",
      "[0, 1, 1, 0, 0]\n",
      "[1, 0, 1, 0, 0]\n",
      "Partitions from states:\n",
      "[[0], [3, 4], [1], [2]]\n",
      "[[1], [3, 4], [0], [2]]\n",
      "Starting mapping...\n",
      "\n",
      "*******************\n",
      "\n",
      "Level 0, OPP:\n",
      "[0 | 3, 4 | 1 | 2]\n",
      "[1 | 3, 4 | 0 | 2]\n",
      "\n",
      "Level 0. Mapping top vertex 3 to bottom vertex 3 in cell 1\n",
      "Split OPP:\n",
      "[0 | 4 | 3 | 1 | 2]\n",
      "[1 | 4 | 3 | 0 | 2]\n",
      "\n",
      "Found automorphism\n",
      "[0 | 4 | 3 | 1 | 2]\n",
      "[1 | 4 | 3 | 0 | 2]\n",
      "Permutation:\n",
      "[1, 0, 2, 3, 4]\n",
      "\n",
      "_____________________\n",
      "States:\n",
      "[0, 0, 1, 1, 0]\n",
      "[1, 1, 0, 0, 0]\n",
      "Partitions from states:\n",
      "[[0, 1], [4], [2], [3]]\n",
      "[[2], [3, 4], [0, 1]]\n",
      "Starting mapping...\n",
      "\n",
      "Refinement not equitable\n",
      "Permutation:\n",
      "None\n",
      "\n",
      "_____________________\n",
      "States:\n",
      "[0, 0, 1, 1, 0]\n",
      "[1, 0, 1, 0, 0]\n",
      "Partitions from states:\n",
      "[[0, 1], [4], [2], [3]]\n",
      "[[1], [3, 4], [0], [2]]\n",
      "Starting mapping...\n",
      "\n",
      "Refinement not equitable\n",
      "Permutation:\n",
      "None\n",
      "\n",
      "_____________________\n",
      "States:\n",
      "[0, 0, 1, 1, 0]\n",
      "[1, 0, 0, 1, 0]\n",
      "Partitions from states:\n",
      "[[0, 1], [4], [2], [3]]\n",
      "[[1], [2], [4], [0], [3]]\n",
      "Starting mapping...\n",
      "\n",
      "Refinement not equitable\n",
      "Permutation:\n",
      "None\n",
      "\n",
      "_____________________\n",
      "States:\n",
      "[0, 0, 1, 0, 1]\n",
      "[1, 1, 0, 0, 0]\n",
      "Partitions from states:\n",
      "[[0, 1], [3], [2], [4]]\n",
      "[[2], [3, 4], [0, 1]]\n",
      "Starting mapping...\n",
      "\n",
      "Refinement not equitable\n",
      "Permutation:\n",
      "None\n",
      "\n",
      "_____________________\n",
      "States:\n",
      "[0, 0, 1, 0, 1]\n",
      "[1, 0, 1, 0, 0]\n",
      "Partitions from states:\n",
      "[[0, 1], [3], [2], [4]]\n",
      "[[1], [3, 4], [0], [2]]\n",
      "Starting mapping...\n",
      "\n",
      "Refinement not equitable\n",
      "Permutation:\n",
      "None\n",
      "\n",
      "_____________________\n",
      "States:\n",
      "[0, 0, 1, 0, 1]\n",
      "[1, 0, 0, 1, 0]\n",
      "Partitions from states:\n",
      "[[0, 1], [3], [2], [4]]\n",
      "[[1], [2], [4], [0], [3]]\n",
      "Starting mapping...\n",
      "\n",
      "Refinement not equitable\n",
      "Permutation:\n",
      "None\n",
      "\n",
      "_____________________\n",
      "States:\n",
      "[0, 0, 1, 0, 1]\n",
      "[0, 0, 1, 1, 0]\n",
      "Partitions from states:\n",
      "[[0, 1], [3], [2], [4]]\n",
      "[[0, 1], [4], [2], [3]]\n",
      "Starting mapping...\n",
      "\n",
      "*******************\n",
      "\n",
      "Level 0, OPP:\n",
      "[0, 1 | 3 | 2 | 4]\n",
      "[0, 1 | 4 | 2 | 3]\n",
      "\n",
      "Level 0. Mapping top vertex 0 to bottom vertex 0 in cell 0\n",
      "Split OPP:\n",
      "[1 | 0 | 3 | 2 | 4]\n",
      "[1 | 0 | 4 | 2 | 3]\n",
      "\n",
      "Found automorphism\n",
      "[1 | 0 | 3 | 2 | 4]\n",
      "[1 | 0 | 4 | 2 | 3]\n",
      "Permutation:\n",
      "[0, 1, 2, 4, 3]\n",
      "\n",
      "_____________________\n",
      "States:\n",
      "[0, 1, 0, 1, 0]\n",
      "[1, 1, 0, 0, 0]\n",
      "Partitions from states:\n",
      "[[0], [2], [4], [1], [3]]\n",
      "[[2], [3, 4], [0, 1]]\n",
      "Starting mapping...\n",
      "\n",
      "Refinement not equitable\n",
      "Permutation:\n",
      "None\n",
      "\n",
      "_____________________\n",
      "States:\n",
      "[0, 1, 0, 1, 0]\n",
      "[1, 0, 1, 0, 0]\n",
      "Partitions from states:\n",
      "[[0], [2], [4], [1], [3]]\n",
      "[[1], [3, 4], [0], [2]]\n",
      "Starting mapping...\n",
      "\n",
      "Refinement not equitable\n",
      "Permutation:\n",
      "None\n",
      "\n",
      "_____________________\n",
      "States:\n",
      "[0, 1, 0, 1, 0]\n",
      "[1, 0, 0, 1, 0]\n",
      "Partitions from states:\n",
      "[[0], [2], [4], [1], [3]]\n",
      "[[1], [2], [4], [0], [3]]\n",
      "Starting mapping...\n",
      "\n",
      "Found automorphism\n",
      "[0 | 2 | 4 | 1 | 3]\n",
      "[1 | 2 | 4 | 0 | 3]\n",
      "Permutation:\n",
      "[1, 0, 2, 3, 4]\n",
      "\n",
      "_____________________\n",
      "States:\n",
      "[0, 0, 0, 1, 1]\n",
      "[1, 1, 0, 0, 0]\n",
      "Partitions from states:\n",
      "[[0, 1], [2], [3, 4]]\n",
      "[[2], [3, 4], [0, 1]]\n",
      "Starting mapping...\n",
      "\n",
      "Refinement not equitable\n",
      "Permutation:\n",
      "None\n",
      "\n",
      "_____________________\n",
      "States:\n",
      "[0, 0, 0, 1, 1]\n",
      "[1, 0, 1, 0, 0]\n",
      "Partitions from states:\n",
      "[[0, 1], [2], [3, 4]]\n",
      "[[1], [3, 4], [0], [2]]\n",
      "Starting mapping...\n",
      "\n",
      "Refinement not equitable\n",
      "Permutation:\n",
      "None\n",
      "\n",
      "_____________________\n",
      "States:\n",
      "[0, 0, 0, 1, 1]\n",
      "[1, 0, 0, 1, 0]\n",
      "Partitions from states:\n",
      "[[0, 1], [2], [3, 4]]\n",
      "[[1], [2], [4], [0], [3]]\n",
      "Starting mapping...\n",
      "\n",
      "Refinement not equitable\n",
      "Permutation:\n",
      "None\n",
      "\n",
      "_____________________\n",
      "States:\n",
      "[0, 0, 0, 1, 1]\n",
      "[0, 0, 1, 1, 0]\n",
      "Partitions from states:\n",
      "[[0, 1], [2], [3, 4]]\n",
      "[[0, 1], [4], [2], [3]]\n",
      "Starting mapping...\n",
      "\n",
      "Refinement not equitable\n",
      "Permutation:\n",
      "None\n"
     ]
    }
   ],
   "source": [
    "Reps,tests,successes=ORs.OrbitRepresentatives(Gorb,pi,True)"
   ]
  },
  {
   "cell_type": "code",
   "execution_count": 4,
   "metadata": {},
   "outputs": [
    {
     "data": {
      "text/plain": [
       "[[0, 0, 0, 0, 0],\n",
       " [1, 1, 1, 1, 1],\n",
       " [1, 0, 0, 0, 0],\n",
       " [0, 0, 1, 0, 0],\n",
       " [0, 0, 0, 1, 0],\n",
       " [0, 1, 1, 1, 1],\n",
       " [1, 1, 0, 1, 1],\n",
       " [1, 1, 1, 0, 1],\n",
       " [1, 1, 0, 0, 0],\n",
       " [1, 0, 1, 0, 0],\n",
       " [1, 0, 0, 1, 0],\n",
       " [0, 0, 1, 1, 0],\n",
       " [0, 0, 0, 1, 1],\n",
       " [0, 0, 1, 1, 1],\n",
       " [0, 1, 0, 1, 1],\n",
       " [0, 1, 1, 0, 1],\n",
       " [1, 1, 0, 0, 1],\n",
       " [1, 1, 1, 0, 0]]"
      ]
     },
     "execution_count": 4,
     "metadata": {},
     "output_type": "execute_result"
    }
   ],
   "source": [
    "Reps"
   ]
  },
  {
   "cell_type": "code",
   "execution_count": 5,
   "metadata": {},
   "outputs": [
    {
     "name": "stdout",
     "output_type": "stream",
     "text": [
      "1.47 ms ± 12 µs per loop (mean ± std. dev. of 7 runs, 1,000 loops each)\n"
     ]
    }
   ],
   "source": [
    "%timeit ORs.OrbitRepresentatives(Gorb,pi,False)"
   ]
  },
  {
   "cell_type": "code",
   "execution_count": 6,
   "metadata": {},
   "outputs": [],
   "source": [
    "import timeit"
   ]
  },
  {
   "cell_type": "code",
   "execution_count": 7,
   "metadata": {},
   "outputs": [],
   "source": [
    "def wrapper(func, *args, **kwargs):\n",
    "    def wrapped():\n",
    "        return func(*args, **kwargs)\n",
    "    return wrapped"
   ]
  },
  {
   "cell_type": "code",
   "execution_count": 8,
   "metadata": {},
   "outputs": [],
   "source": [
    "# times=[]\n",
    "# tests=[]\n",
    "# successes=[]\n",
    "# sizes=range(3,26)\n",
    "# for N in sizes:\n",
    "#     alist=[[0] for x in range(N)]\n",
    "#     alist[0]=[i for i in range(1,N)]\n",
    "#     Gstar=OPPs.Graph(alist)\n",
    "#     pi=[[0],[i for i in range(1,N)]]\n",
    "#     wrapped = wrapper(ORs.OrbitRepresentatives,Gstar,pi,False)\n",
    "#     t=timeit.timeit(wrapped,number=1)\n",
    "#     times.append(t)\n",
    "#     Reps,Ntests,Nsuccesses=ORs.OrbitRepresentatives(Gstar,pi,False)\n",
    "#     tests.append(sum(Ntests))\n",
    "#     successes.append(sum(Nsuccesses))\n",
    "#     print(\"N={}, |S/G|={}, tests={}, successes={}, t={}\".format(N,len(Reps),sum(Ntests),sum(Nsuccesses),t))"
   ]
  },
  {
   "cell_type": "code",
   "execution_count": 9,
   "metadata": {},
   "outputs": [],
   "source": [
    "# print(sizes)\n",
    "# print(times)\n",
    "# print(tests)\n",
    "# print(successes)"
   ]
  },
  {
   "cell_type": "code",
   "execution_count": 10,
   "metadata": {},
   "outputs": [],
   "source": [
    "# Non-recursive\n",
    "sizes=range(3, 26)\n",
    "times=[0.00020599699928425252, 0.0023503359989263117, 0.00422037199314218, 0.014311620005173609, 0.03529977099969983, 0.056760776991723105, 0.09820112299348693, 0.18479545100126415, 0.2946033860062016, 0.5268948589946376, 0.7204572010086849, 1.128144822010654, 1.354707361999317, 2.4942313640058273, 3.05527071999677, 4.047496963001322, 4.9455318770051235, 6.564646285987692, 8.370628085991484, 10.491396423996775, 12.545160513996962, 16.401453814003617, 18.824883245004457]\n",
    "tests=[3, 10, 15, 28, 36, 55, 66, 91, 105, 136, 153, 190, 210, 253, 276, 325, 351, 406, 435, 496, 528, 595, 630]\n",
    "successes=[1, 5, 8, 16, 21, 33, 40, 56, 65, 85, 96, 120, 133, 161, 176, 208, 225, 261, 280, 320, 341, 385, 408]"
   ]
  },
  {
   "cell_type": "code",
   "execution_count": 11,
   "metadata": {},
   "outputs": [],
   "source": [
    "# Recursive\n",
    "sizesR=range(3, 26)\n",
    "timesR=[0.00029971200274303555, 0.0017091379995690659, 0.0064928119973046705, 0.023742760997265577, 0.027866264994372614, 0.05603775699273683, 0.11288053401221987, 0.1777767710009357, 0.30647533098817803, 0.5152418400102761, 0.709075810998911, 1.027768872998422, 1.4379871090059169, 2.1011187030089786, 2.7063293690007413, 3.9592230699927313, 4.93440686899703, 6.31917689499096, 7.962755254993681, 10.742754709004657, 12.072812639002223, 15.37606683599006, 19.161936902004527]\n",
    "testsR=[3, 10, 15, 28, 36, 55, 66, 91, 105, 136, 153, 190, 210, 253, 276, 325, 351, 406, 435, 496, 528, 595, 630]\n",
    "successesR=[1, 5, 8, 16, 21, 33, 40, 56, 65, 85, 96, 120, 133, 161, 176, 208, 225, 261, 280, 320, 341, 385, 408]"
   ]
  },
  {
   "cell_type": "code",
   "execution_count": 12,
   "metadata": {},
   "outputs": [],
   "source": [
    "import matplotlib.pyplot as plt\n",
    "%matplotlib inline"
   ]
  },
  {
   "cell_type": "code",
   "execution_count": 13,
   "metadata": {},
   "outputs": [
    {
     "data": {
      "text/plain": [
       "[<matplotlib.lines.Line2D at 0x7f7f20950610>]"
      ]
     },
     "execution_count": 13,
     "metadata": {},
     "output_type": "execute_result"
    },
    {
     "data": {
      "image/png": "[encoded data removed]",
      "text/plain": [
       "<Figure size 640x480 with 1 Axes>"
      ]
     },
     "metadata": {},
     "output_type": "display_data"
    }
   ],
   "source": [
    "plt.loglog(sizesR,testsR,'ro-')\n",
    "plt.loglog(sizes,tests,'bo')"
   ]
  },
  {
   "cell_type": "code",
   "execution_count": 14,
   "metadata": {},
   "outputs": [
    {
     "data": {
      "text/plain": [
       "4.904762343245319"
      ]
     },
     "execution_count": 14,
     "metadata": {},
     "output_type": "execute_result"
    }
   ],
   "source": [
    "(math.log(times[-1])-math.log(times[1]))/(math.log(sizes[-1])-math.log(sizes[1]))"
   ]
  },
  {
   "cell_type": "markdown",
   "metadata": {},
   "source": [
    "Profiling\n",
    "=====\n",
    "\n",
    "\n",
    "Start by profiling a simple graph, Gorb.\n",
    "\n",
    "Gorb\n",
    "---"
   ]
  },
  {
   "cell_type": "code",
   "execution_count": 15,
   "metadata": {},
   "outputs": [],
   "source": [
    "%load_ext line_profiler"
   ]
  },
  {
   "cell_type": "code",
   "execution_count": 16,
   "metadata": {},
   "outputs": [],
   "source": [
    "%lprun -f ORs.OrbitRepresentatives ORs.OrbitRepresentatives(Gorb,pi,False)"
   ]
  },
  {
   "cell_type": "markdown",
   "metadata": {},
   "source": [
    "Says that this spends 95% of the time in GetAutomorphism"
   ]
  },
  {
   "cell_type": "code",
   "execution_count": 17,
   "metadata": {},
   "outputs": [],
   "source": [
    "%lprun -f ORs.Automorphisms.GetAutomorphism ORs.OrbitRepresentatives(Gorb,pi,False)"
   ]
  },
  {
   "cell_type": "markdown",
   "metadata": {},
   "source": [
    "In GetAutomorphisms, spend 67% of the time making the OPP, 22% in mapping."
   ]
  },
  {
   "cell_type": "code",
   "execution_count": 18,
   "metadata": {},
   "outputs": [],
   "source": [
    "%lprun -f ORs.Automorphisms.mapping ORs.OrbitRepresentatives(Gorb,pi,False)"
   ]
  },
  {
   "cell_type": "markdown",
   "metadata": {},
   "source": [
    "35% of the time in mapping is spent making a new OPP, 45% of the time is spent in split."
   ]
  },
  {
   "cell_type": "code",
   "execution_count": 19,
   "metadata": {},
   "outputs": [],
   "source": [
    "%lprun -f ORs.OPPs.GetPermutation ORs.OrbitRepresentatives(Gorb,pi,False)"
   ]
  },
  {
   "cell_type": "markdown",
   "metadata": {},
   "source": [
    "Wondering if this is different to the call above?"
   ]
  },
  {
   "cell_type": "code",
   "execution_count": 20,
   "metadata": {},
   "outputs": [],
   "source": [
    "%lprun -f OPPs.OrderedPartitionPair.__init__ ORs.OrbitRepresentatives(Gorb,pi,False)"
   ]
  },
  {
   "cell_type": "markdown",
   "metadata": {},
   "source": [
    "Most of the time making OPPs is spent making the partitions."
   ]
  },
  {
   "cell_type": "code",
   "execution_count": 21,
   "metadata": {},
   "outputs": [],
   "source": [
    "%lprun -f ORs.Automorphisms.OPPs.Partition.__init__ ORs.OrbitRepresentatives(Gorb,pi,False)"
   ]
  },
  {
   "cell_type": "markdown",
   "metadata": {},
   "source": [
    "Most of the time (90%) making partitions is spent getting cell degrees"
   ]
  },
  {
   "cell_type": "code",
   "execution_count": 22,
   "metadata": {},
   "outputs": [],
   "source": [
    "%lprun -f ORs.Automorphisms.OPPs.Partition.getcelldegrees ORs.OrbitRepresentatives(Gorb,pi,False)"
   ]
  },
  {
   "cell_type": "markdown",
   "metadata": {},
   "source": [
    "Most of the time in get cell degrees is spent appending things to a list."
   ]
  },
  {
   "cell_type": "code",
   "execution_count": 23,
   "metadata": {},
   "outputs": [],
   "source": [
    "%lprun -f ORs.Automorphisms.OPPs.Partition.split ORs.OrbitRepresentatives(Gorb,pi,False)"
   ]
  },
  {
   "cell_type": "markdown",
   "metadata": {},
   "source": [
    "Most of the time in split is spent getting cell degrees."
   ]
  },
  {
   "cell_type": "code",
   "execution_count": 24,
   "metadata": {},
   "outputs": [],
   "source": [
    "%lprun -f ORs.Automorphisms.OPPs.Partition.refine ORs.OrbitRepresentatives(Gorb,pi,False)"
   ]
  },
  {
   "cell_type": "markdown",
   "metadata": {},
   "source": [
    "Seems like no time is spent in this function - perhaps this isn't a great example."
   ]
  },
  {
   "cell_type": "markdown",
   "metadata": {},
   "source": [
    "Gstar\n",
    "----"
   ]
  },
  {
   "cell_type": "code",
   "execution_count": 25,
   "metadata": {},
   "outputs": [],
   "source": [
    "N=15\n",
    "alist=[[0] for x in range(N)]\n",
    "alist[0]=[i for i in range(1,N)]\n",
    "Gstar=OPPs.Graph(alist)\n",
    "pi=[[0],[i for i in range(1,N)]]"
   ]
  },
  {
   "cell_type": "code",
   "execution_count": 26,
   "metadata": {},
   "outputs": [],
   "source": [
    "Reps,Ntests,Nsuccesses=ORs.OrbitRepresentatives(Gstar,pi,False)"
   ]
  },
  {
   "cell_type": "code",
   "execution_count": 27,
   "metadata": {},
   "outputs": [
    {
     "data": {
      "text/plain": [
       "30"
      ]
     },
     "execution_count": 27,
     "metadata": {},
     "output_type": "execute_result"
    }
   ],
   "source": [
    "len(Reps)"
   ]
  },
  {
   "cell_type": "code",
   "execution_count": 28,
   "metadata": {},
   "outputs": [],
   "source": [
    "%lprun -f ORs.OrbitRepresentatives ORs.OrbitRepresentatives(Gstar,pi,False)"
   ]
  },
  {
   "cell_type": "markdown",
   "metadata": {},
   "source": [
    "99.9% of the time spent in GetAutomorphism"
   ]
  },
  {
   "cell_type": "code",
   "execution_count": 29,
   "metadata": {},
   "outputs": [],
   "source": [
    "%lprun -f ORs.Automorphisms.GetAutomorphism ORs.OrbitRepresentatives(Gstar,pi,False)"
   ]
  },
  {
   "cell_type": "markdown",
   "metadata": {},
   "source": [
    "1.9% of the time spent in OPPs, 97.8% of the time in mapping."
   ]
  },
  {
   "cell_type": "code",
   "execution_count": 30,
   "metadata": {},
   "outputs": [],
   "source": [
    "%lprun -f ORs.Automorphisms.mapping ORs.OrbitRepresentatives(Gstar,pi,False)"
   ]
  },
  {
   "cell_type": "markdown",
   "metadata": {},
   "source": [
    "46% spent in levelinfo.create_opp (although this is all in creating new OPPs), 51.6% in split"
   ]
  },
  {
   "cell_type": "code",
   "execution_count": 31,
   "metadata": {},
   "outputs": [],
   "source": [
    "%lprun -f ORs.Automorphisms.OPPs.Partition.split ORs.OrbitRepresentatives(Gstar,pi,False)"
   ]
  },
  {
   "cell_type": "markdown",
   "metadata": {},
   "source": [
    "98% in getcelldegrees"
   ]
  },
  {
   "cell_type": "code",
   "execution_count": 32,
   "metadata": {},
   "outputs": [],
   "source": [
    "%lprun -f ORs.Automorphisms.OPPs.OrderedPartitionPair.__init__ ORs.OrbitRepresentatives(Gstar,pi,False)"
   ]
  },
  {
   "cell_type": "markdown",
   "metadata": {},
   "source": [
    "All in Partition - suspect this is the same story as before (but could be checked)."
   ]
  },
  {
   "cell_type": "code",
   "execution_count": 33,
   "metadata": {},
   "outputs": [],
   "source": [
    "%lprun -f ORs.Automorphisms.OPPs.Partition.refine ORs.OrbitRepresentatives(Gstar,pi,False)"
   ]
  },
  {
   "cell_type": "markdown",
   "metadata": {},
   "source": [
    "Same as above - doesn't seem to be being called. This looks to be the case. Either it is not equitable to begin with or each split results in something that is still equitable."
   ]
  },
  {
   "cell_type": "code",
   "execution_count": null,
   "metadata": {},
   "outputs": [],
   "source": []
  },
  {
   "cell_type": "code",
   "execution_count": null,
   "metadata": {},
   "outputs": [],
   "source": []
  }
 ],
 "metadata": {
  "anaconda-cloud": {},
  "kernelspec": {
   "display_name": "Python 3 (ipykernel)",
   "language": "python",
   "name": "python3"
  },
  "language_info": {
   "codemirror_mode": {
    "name": "ipython",
    "version": 3
   },
   "file_extension": ".py",
   "mimetype": "text/x-python",
   "name": "python",
   "nbconvert_exporter": "python",
   "pygments_lexer": "ipython3",
   "version": "3.9.18"
  }
 },
 "nbformat": 4,
 "nbformat_minor": 1
}
