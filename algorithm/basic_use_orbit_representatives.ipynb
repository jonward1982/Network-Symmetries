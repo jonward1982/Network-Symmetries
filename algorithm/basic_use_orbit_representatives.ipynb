{
 "cells": [
  {
   "cell_type": "markdown",
   "id": "5f7d1cd9",
   "metadata": {},
   "source": [
    "# Counting graph colourings\n",
    "\n",
    "A graph or network $\\Gamma$ is a set of vertices $V$ connected together by a set of edges $E$ (i.e. pairs of vertices). Given a finite set of colours $W$, a colouring of a graph asigns a colour to each vertex, so is a function from the set of vertices to the set of colours. The set of all colourings is $\\Omega=W^V$, i.e. the set of all functions from the set of vertices to the set of colours.\n",
    "\n",
    "A graph symmetry or automorphism $g$ is a permutation of the vertices that leaves the graph unchanged, i.e. for $u,v\\in V$ we have $(u,v)\\in E$ if and only if $(gu,gv)\\in E$. The automorphism group $G$ of a graph is the set of all of the graph's automorphisms.\n",
    "\n",
    "An automorphism can act on a graph colouring by moving the colours. More precisely we define the action of an automorophism $g\\in G$ on a colouring $S\\in\\Omega$ so that for $v\\in V$ we have $gS(gv)=S(v)$. \n",
    "\n",
    "We are interested in counting colourings that are equivalent under the action of the automorphim group, i.e. for $S_1,S_2\\in\\Omega$, there is a $g\\in G$ such that $S_1=gS_2$.\n",
    "\n",
    "In this notebook, we will look at some of the that I have developed to do this. \n",
    "\n",
    "We start by setting up a graph. There is a class in the `OPP` module for graphs, so we start by loading this module."
   ]
  },
  {
   "cell_type": "code",
   "execution_count": null,
   "id": "6af597fe",
   "metadata": {},
   "outputs": [],
   "source": [
    "import OPPs # Orbit Partition Pairs"
   ]
  },
  {
   "cell_type": "markdown",
   "id": "4feeae77",
   "metadata": {},
   "source": [
    "A graph can be created by specifying an adjacency list. An adjacency list comprises of lists of the neighbours of each vertex. First let's create a path graph with three vertices"
   ]
  },
  {
   "cell_type": "code",
   "execution_count": null,
   "id": "cb4371c7",
   "metadata": {},
   "outputs": [],
   "source": [
    "# adjacency list\n",
    "alist=[[1],[0,2],[1]] "
   ]
  },
  {
   "cell_type": "markdown",
   "id": "1ce369b9",
   "metadata": {},
   "source": [
    "So vertex 0 is connected to vertex 1, vertex 1 is connect to vertex 0 and vertex 2, and vertex 2 is connect to vertex 1. We create an instance of this graph from the OPPs module"
   ]
  },
  {
   "cell_type": "code",
   "execution_count": null,
   "id": "01a7afc9",
   "metadata": {},
   "outputs": [],
   "source": [
    "Gpath=OPPs.Graph(alist)"
   ]
  },
  {
   "cell_type": "markdown",
   "id": "341b94e9",
   "metadata": {},
   "source": [
    "The graph object has attributes corresponding to the adjacency list `alist`, the set of vertices `V`, the number of vertices `N`, the set of edges `E` and the degree of each vertex `d`. Edges are frozensets:"
   ]
  },
  {
   "cell_type": "code",
   "execution_count": null,
   "id": "f5d022c9",
   "metadata": {},
   "outputs": [],
   "source": [
    "Gpath.E"
   ]
  },
  {
   "cell_type": "markdown",
   "id": "37537375",
   "metadata": {},
   "source": [
    "There is only one automorphism of this graph (other than the identity), which corresponds to permuting vertices 0 and 2.\n",
    "\n",
    "In the `OrbitRepresentatives` module, I have written code to produce \"orbit representatives\" for the case where there are just two colours. The set of orbit representatives is a set of colourings $R\\subset\\Omega$ so that for any colouring $c\\in\\Omega$ there is a $g\\in G$ and $r\\in\\Omega$ such that $c=gr$, but also for any $r_1,r_2\\in R$ there is no $g\\in G$ such that $r_1=gr_2$. The number of orbit representatives is the number of possible distinct colourings."
   ]
  },
  {
   "cell_type": "code",
   "execution_count": null,
   "id": "62d73e7e",
   "metadata": {},
   "outputs": [],
   "source": [
    "import OrbitRepresentatives as ORs"
   ]
  },
  {
   "cell_type": "markdown",
   "id": "201411d9",
   "metadata": {},
   "source": [
    "The function `OrbitRepresentatives` in the `ORs` class produces the set of orbit representatives but it needs to be passed the orbit partition of vertices. For the 3-vertex path graph considered here, vertices 0 and 2 are in the same orbit, and 1 is in its own orbit. We encode that in python as a list of lists:"
   ]
  },
  {
   "cell_type": "code",
   "execution_count": null,
   "id": "6fdc1546",
   "metadata": {},
   "outputs": [],
   "source": [
    "pi=[[0,2],[1]]"
   ]
  },
  {
   "cell_type": "markdown",
   "id": "0af3fe17",
   "metadata": {},
   "source": [
    "We can now produce the set of orbit representatives for the path graph with the `OrbitRepresentatives`, setting the verbose argument to `True`:"
   ]
  },
  {
   "cell_type": "code",
   "execution_count": null,
   "id": "b2e476e8",
   "metadata": {},
   "outputs": [],
   "source": [
    "Reps,tests,successes=ORs.OrbitRepresentatives(Gpath,pi,True)"
   ]
  },
  {
   "cell_type": "markdown",
   "id": "9b290581",
   "metadata": {},
   "source": [
    "The set of orbit representatives is:"
   ]
  },
  {
   "cell_type": "code",
   "execution_count": null,
   "id": "aaa906c2",
   "metadata": {},
   "outputs": [],
   "source": [
    "Reps"
   ]
  },
  {
   "cell_type": "markdown",
   "id": "a800cc3c",
   "metadata": {},
   "source": [
    "The only other possible colourings are `[0,0,1]` (which gets mapped to `[1,0,0]` by the non-trivial permutation) and `[1,1,0]` (which gets mapped to `[0,1,1]` by the non-trivial permutation)."
   ]
  }
 ],
 "metadata": {
  "kernelspec": {
   "display_name": "Python 3 (ipykernel)",
   "language": "python",
   "name": "python3"
  },
  "language_info": {
   "codemirror_mode": {
    "name": "ipython",
    "version": 3
   },
   "file_extension": ".py",
   "mimetype": "text/x-python",
   "name": "python",
   "nbconvert_exporter": "python",
   "pygments_lexer": "ipython3",
   "version": "3.11.9"
  }
 },
 "nbformat": 4,
 "nbformat_minor": 5
}
